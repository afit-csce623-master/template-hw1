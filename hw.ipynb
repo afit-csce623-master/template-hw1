{
  "nbformat": 4,
  "nbformat_minor": 0,
  "metadata": {
    "colab": {
      "name": "template-hw.ipynb",
      "provenance": [],
      "collapsed_sections": [
        "fl9_eKYFkRq6",
        "s-shOMr2qe6e",
        "fIDpfopYux9Y",
        "KR2WgrC5xT4H",
        "vNEgFes_2vMS",
        "9bchJZbV7Xdx",
        "j63D6AI0Aut9",
        "0glf818wZeTC",
        "YSdc-flUr-eF",
        "39t8pog5cvUd",
        "d12flFB1hf7c",
        "0glf818wZeTC",
        "YSdc-flUr-eF",
        "39t8pog5cvUd",
        "d12flFB1hf7c"
      ],
      "toc_visible": true
    },
    "kernelspec": {
      "name": "python3",
      "display_name": "Python 3"
    }
  },
  "cells": [
    {
      "cell_type": "markdown",
      "metadata": {
        "nbgrader": {
          "grade": false,
          "grade_id": "cell-6d0fb40523026b17",
          "locked": true,
          "schema_version": 3,
          "solution": false,
          "task": false
        },
        "id": "Gdr-ueUldM4E"
      },
      "source": [
        "# CSCE 623 Homework Assignment"
      ]
    },
    {
      "cell_type": "markdown",
      "metadata": {
        "id": "CsCY7fC9M6Vr"
      },
      "source": [
        "## Header"
      ]
    },
    {
      "cell_type": "markdown",
      "metadata": {
        "id": "q7R9W9fBdsH_"
      },
      "source": [
        "### Student Name"
      ]
    },
    {
      "cell_type": "markdown",
      "metadata": {
        "id": "nURZHcOgOTV3"
      },
      "source": [
        "< Enter Student Name >"
      ]
    },
    {
      "cell_type": "markdown",
      "metadata": {
        "id": "YJ4ftr1PObVj"
      },
      "source": [
        "### Date"
      ]
    },
    {
      "cell_type": "markdown",
      "metadata": {
        "id": "R72J2ni7Ocke"
      },
      "source": [
        "< Enter Date >"
      ]
    },
    {
      "cell_type": "markdown",
      "metadata": {
        "id": "jjsJmbLkPBX4"
      },
      "source": [
        "## Overview"
      ]
    },
    {
      "cell_type": "markdown",
      "metadata": {
        "id": "UEGAAVJJPHHN"
      },
      "source": [
        "## Required Activities"
      ]
    },
    {
      "cell_type": "markdown",
      "metadata": {
        "id": "113P2OqPPTA-"
      },
      "source": [
        "### STEP 1"
      ]
    },
    {
      "cell_type": "markdown",
      "metadata": {
        "id": "gpkiVuXWPUbc"
      },
      "source": [
        "### STEP 2"
      ]
    },
    {
      "cell_type": "markdown",
      "metadata": {
        "id": "Lv4c3PBTPWDn"
      },
      "source": [
        "### STEP 3"
      ]
    },
    {
      "cell_type": "markdown",
      "metadata": {
        "id": "DUQWq0rZPXSa"
      },
      "source": [
        "### STEP 4"
      ]
    },
    {
      "cell_type": "markdown",
      "metadata": {
        "id": "bMB9UxDNPYpO"
      },
      "source": [
        "### STEP 5"
      ]
    },
    {
      "cell_type": "markdown",
      "metadata": {
        "id": "DS-hRk91PZ8F"
      },
      "source": [
        "### STEP 6"
      ]
    },
    {
      "cell_type": "markdown",
      "metadata": {
        "id": "d1DnK-WqPj0q"
      },
      "source": [
        "## Helpful Hints"
      ]
    },
    {
      "cell_type": "markdown",
      "metadata": {
        "id": "MqVP0xWKPr_Z"
      },
      "source": [
        "- Auto testing is available in github. As you complete steps, commit this file to your GitHub repository. GitHub will run automated tests to verify your code. GitHub will not validate your text answers or plots.\n",
        "-- If you're using Colab by Google, you'll need to save to GitHub (File -> Save a Copy to GitHub)\n",
        "-- If you're developing on a local notebook, you'll need to commit your changes locally and push to your remote GitHub repository"
      ]
    }
  ]
}